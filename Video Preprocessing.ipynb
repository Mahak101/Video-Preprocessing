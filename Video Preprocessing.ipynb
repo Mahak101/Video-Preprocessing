{
 "cells": [
  {
   "cell_type": "code",
   "execution_count": 1,
   "metadata": {},
   "outputs": [],
   "source": [
    "import numpy as np\n",
    "import cv2\n",
    "\n",
    "cap = cv2.VideoCapture(r\"C:\\Users\\HP\\Downloads\\Pexels Videos 4698.mp4\")\n",
    "width = 640\n",
    "ret = cap.set(3, width)\n",
    "height = 480\n",
    "ret = cap.set(4, height)\n",
    "\n",
    "# Define the codec and create VideoWriter object\n",
    "fourcc = cv2.VideoWriter_fourcc(*'XVID')  # opencv 3.0\n",
    "# Error: 'module' object has no attribute 'VideoWriter_fourcc'\n",
    "# fourcc=cv2.VideoWriter_fourcc('X', 'V', 'I', 'D')\n",
    "#jpeg,h263,'m', 'p', '4', 'v'\n",
    "\n",
    "#\n",
    "out = cv2.VideoWriter('output8.avi', fourcc, 20.0, (width, height))\n",
    "\n",
    "while cap.isOpened():\n",
    "    ret, frame = cap.read()\n",
    "    if ret is True:\n",
    "\n",
    "        frame = cv2.resize(frame, (640, 480))\n",
    "       \n",
    "        \n",
    "        gaussianblur = cv2.GaussianBlur(frame,(5, 5),0)\n",
    "        dst = cv2.fastNlMeansDenoisingColored(frame,None,10,10,7,21)\n",
    "        \n",
    "\n",
    "        # write the flipped frame\n",
    "        out.write(frame)\n",
    "\n",
    "        cv2.imshow('frame',dst)\n",
    "\n",
    "    else:\n",
    "        break\n",
    "\n",
    "    key = cv2.waitKey(1)\n",
    "    if key == ord(\"q\"):\n",
    "        break\n",
    "\n",
    "# Release everything if job is finished\n",
    "cap.release()\n",
    "out.release()\n",
    "cv2.destroyAllWindows()"
   ]
  },
  {
   "cell_type": "code",
   "execution_count": null,
   "metadata": {},
   "outputs": [],
   "source": []
  }
 ],
 "metadata": {
  "kernelspec": {
   "display_name": "Python 3",
   "language": "python",
   "name": "python3"
  },
  "language_info": {
   "codemirror_mode": {
    "name": "ipython",
    "version": 3
   },
   "file_extension": ".py",
   "mimetype": "text/x-python",
   "name": "python",
   "nbconvert_exporter": "python",
   "pygments_lexer": "ipython3",
   "version": "3.8.5"
  }
 },
 "nbformat": 4,
 "nbformat_minor": 4
}
